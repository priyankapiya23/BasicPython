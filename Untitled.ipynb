{
 "cells": [
  {
   "cell_type": "code",
   "execution_count": 11,
   "metadata": {},
   "outputs": [
    {
     "name": "stdout",
     "output_type": "stream",
     "text": [
      "23.0\n",
      "area is 80.42853971072707\n"
     ]
    }
   ],
   "source": [
    "import math\n",
    "a=10.5\n",
    "b=15.5\n",
    "c=20\n",
    "s=(a+b+c)/2\n",
    "area=math.sqrt(s*(s-a)*(s-b)*(s-c))\n",
    "print(s)\n",
    "print('area is',area)"
   ]
  },
  {
   "cell_type": "code",
   "execution_count": 6,
   "metadata": {},
   "outputs": [
    {
     "name": "stdout",
     "output_type": "stream",
     "text": [
      "475.2222222222222\n"
     ]
    }
   ],
   "source": [
    "f=98.6\n",
    "c=((f-32/9)*5)\n",
    "print(c)"
   ]
  },
  {
   "cell_type": "code",
   "execution_count": 2,
   "metadata": {},
   "outputs": [
    {
     "name": "stdout",
     "output_type": "stream",
     "text": [
      "100000\n",
      "cost of tiling a rectangular plot of land is 1000.0\n"
     ]
    }
   ],
   "source": [
    "l=500\n",
    "b=200\n",
    "area=l*b\n",
    "print(area)\n",
    "cost=area/100\n",
    "print('cost of tiling a rectangular plot of land is',cost)"
   ]
  },
  {
   "cell_type": "code",
   "execution_count": 12,
   "metadata": {},
   "outputs": [
    {
     "name": "stdout",
     "output_type": "stream",
     "text": [
      "the weighted percentage marks 84.5\n"
     ]
    }
   ],
   "source": [
    "#to compute marks\n",
    "marks1=412\n",
    "marks2=423\n",
    "marks3=430\n",
    "m1=(marks1+marks2)\n",
    "m2=m1*(30/100)\n",
    "m3=marks3*(40/100)\n",
    "avg=((m2+m3)/500)*100\n",
    "\n",
    "print('the weighted percentage marks',avg)\n",
    "\n"
   ]
  },
  {
   "cell_type": "code",
   "execution_count": 15,
   "metadata": {},
   "outputs": [
    {
     "name": "stdout",
     "output_type": "stream",
     "text": [
      "12000\n",
      "38000\n",
      "2400.0\n"
     ]
    }
   ],
   "source": [
    "#sponsorship\n",
    "amount=50000\n",
    "group1=5200\n",
    "group2=6800\n",
    "sum=group1+group2\n",
    "print(sum)\n",
    "s1=amount-sum\n",
    "print(s1)\n",
    "a=sum/5\n",
    "print(a)\n"
   ]
  },
  {
   "cell_type": "code",
   "execution_count": 17,
   "metadata": {},
   "outputs": [
    {
     "name": "stdout",
     "output_type": "stream",
     "text": [
      "in dozens 99\n",
      "extra packets 5\n"
     ]
    }
   ],
   "source": [
    "#animal charity\n",
    "packets=1193\n",
    "dozen=1193//12\n",
    "extra=1193%12\n",
    "print('in dozens',dozen)\n",
    "print('extra packets',extra)"
   ]
  },
  {
   "cell_type": "code",
   "execution_count": null,
   "metadata": {},
   "outputs": [],
   "source": []
  }
 ],
 "metadata": {
  "kernelspec": {
   "display_name": "Python 3",
   "language": "python",
   "name": "python3"
  },
  "language_info": {
   "codemirror_mode": {
    "name": "ipython",
    "version": 3
   },
   "file_extension": ".py",
   "mimetype": "text/x-python",
   "name": "python",
   "nbconvert_exporter": "python",
   "pygments_lexer": "ipython3",
   "version": "3.7.4"
  }
 },
 "nbformat": 4,
 "nbformat_minor": 4
}
