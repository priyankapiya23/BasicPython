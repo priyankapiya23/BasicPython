{
 "cells": [
  {
   "cell_type": "code",
   "execution_count": 3,
   "metadata": {},
   "outputs": [
    {
     "name": "stdout",
     "output_type": "stream",
     "text": [
      "number is even\n"
     ]
    }
   ],
   "source": [
    "a=8\n",
    "if (a%2)==0:\n",
    "    print('number is even')\n",
    "else:\n",
    "        print('number is not even')"
   ]
  },
  {
   "cell_type": "code",
   "execution_count": 7,
   "metadata": {},
   "outputs": [
    {
     "name": "stdout",
     "output_type": "stream",
     "text": [
      "Enter a number\n",
      "9\n",
      "number is not even\n"
     ]
    }
   ],
   "source": [
    "#find number is odd or even\n",
    "print('Enter a number')\n",
    "a = int(input())\n",
    "if (a%2)== 0:\n",
    "    print(\"number is even\")\n",
    "else:\n",
    "    print('number is not even')"
   ]
  },
  {
   "cell_type": "code",
   "execution_count": 19,
   "metadata": {},
   "outputs": [
    {
     "name": "stdout",
     "output_type": "stream",
     "text": [
      "Enter a dividend\n",
      "56.8\n",
      "Enter a divisior\n",
      "2\n",
      "quotient is 28.4 \n",
      " remainder is 0.7999999999999972\n"
     ]
    }
   ],
   "source": [
    "#find quotient and remainder\n",
    "print('Enter a dividend')\n",
    "a = eval(input())\n",
    "print('Enter a divisior')\n",
    "b = eval(input())\n",
    "quotient=(a/b)\n",
    "remainder=(a%b)\n",
    "print('quotient is',quotient, '\\nremainder is',remainder)"
   ]
  },
  {
   "cell_type": "code",
   "execution_count": 20,
   "metadata": {},
   "outputs": [
    {
     "name": "stdout",
     "output_type": "stream",
     "text": [
      "Enter a number\n",
      "3\n",
      "Enter a number\n",
      "4\n",
      "4 is greater\n"
     ]
    }
   ],
   "source": [
    "#find greater number\n",
    "print('Enter a number')\n",
    "a = eval(input())\n",
    "print('Enter a number')\n",
    "a = eval(input())\n",
    "if a>b:\n",
    "    print(a,'is greater')\n",
    "else: print(b,' is greater')"
   ]
  },
  {
   "cell_type": "code",
   "execution_count": 23,
   "metadata": {},
   "outputs": [
    {
     "name": "stdout",
     "output_type": "stream",
     "text": [
      "Enter a number\n",
      "992345\n",
      "496\n"
     ]
    }
   ],
   "source": [
    "#denomenation\n",
    "print('Enter a number')\n",
    "a = eval(input())\n",
    "n1=a//2000\n",
    "print(n1)\n",
    "n2=n1/500\n",
    "print(n2)\n",
    "n3=n2/100\n",
    "print(n3)\n",
    "n4=n3/50\n",
    "print(n4)\n",
    "n5=n4/20\n",
    "print(n5)\n",
    "n6=n5/10\n",
    "print(n6)\n",
    "n7=n6/5\n",
    "print(n7)"
   ]
  },
  {
   "cell_type": "code",
   "execution_count": 16,
   "metadata": {},
   "outputs": [
    {
     "name": "stdout",
     "output_type": "stream",
     "text": [
      "Enter a number\n",
      "1\n",
      "Enter a number\n",
      "2\n",
      "Enter a number\n",
      "3\n",
      "invalid\n"
     ]
    }
   ],
   "source": [
    "print('Enter a number')\n",
    "a = int(input())\n",
    "print('Enter a number')\n",
    "b = int(input())\n",
    "print('Enter a number')\n",
    "c = int(input())\n",
    "if (((a+b)<=c) or ((b+c)<=a) or ((a+c)<=a)):\n",
    "    print('invalid')\n",
    "else:\n",
    "    print('valid')\n",
    "    \n",
    "    "
   ]
  },
  {
   "cell_type": "code",
   "execution_count": null,
   "metadata": {},
   "outputs": [],
   "source": []
  }
 ],
 "metadata": {
  "kernelspec": {
   "display_name": "Python 3",
   "language": "python",
   "name": "python3"
  },
  "language_info": {
   "codemirror_mode": {
    "name": "ipython",
    "version": 3
   },
   "file_extension": ".py",
   "mimetype": "text/x-python",
   "name": "python",
   "nbconvert_exporter": "python",
   "pygments_lexer": "ipython3",
   "version": "3.7.4"
  }
 },
 "nbformat": 4,
 "nbformat_minor": 4
}
